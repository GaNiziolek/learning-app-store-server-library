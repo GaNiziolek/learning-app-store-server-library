{
 "cells": [
  {
   "cell_type": "markdown",
   "metadata": {},
   "source": [
    "Apple oficial documentation: https://developer.apple.com/documentation/appstoreserverapi\n",
    "app-store-server-library documentation: https://github.com/apple/app-store-server-library-python"
   ]
  },
  {
   "cell_type": "markdown",
   "metadata": {},
   "source": [
    "# Creating Credentials to use server API\n",
    "https://developer.apple.com/documentation/appstoreserverapi/creating_api_keys_to_use_with_the_app_store_server_api"
   ]
  },
  {
   "cell_type": "code",
   "execution_count": 5,
   "metadata": {},
   "outputs": [],
   "source": [
    "import os\n",
    "\n",
    "# load env variables\n",
    "from dotenv import load_dotenv\n",
    "load_dotenv()\n",
    "\n",
    "def read_private_key(file_path):\n",
    "    with open(file_path, \"rb\") as key_file:\n",
    "        signing_key = key_file.read()\n",
    "    return signing_key\n",
    "\n",
    "private_key = read_private_key(os.getenv(\"SUBSCRIPTION_KEY_FILE\")) # Implemenation will vary\n",
    "\n",
    "key_id = os.getenv(\"KEY_ID\")\n",
    "\n",
    "# https://developer.apple.com/documentation/appstoreserverapi/generating_tokens_for_api_requests#3809215\n",
    "# issuer_id is the 10-character issuer ID you received when you created your API key\n",
    "# it is available in the App Store Connect under Users and Access -> Keys\n",
    "issuer_id = os.getenv(\"ISSUER_ID\")\n",
    "\n",
    "# Your app’s bundle ID (Ex: “com.example.testbundleid2021”)\n",
    "bundle_id = os.getenv(\"BUNDLE_ID\")\n"
   ]
  },
  {
   "cell_type": "code",
   "execution_count": 7,
   "metadata": {},
   "outputs": [
    {
     "name": "stdout",
     "output_type": "stream",
     "text": [
      "SendTestNotificationResponse(testNotificationToken='e968d476-5178-441a-bfc7-988671f74bdf_1706883506318')\n"
     ]
    }
   ],
   "source": [
    "from appstoreserverlibrary.api_client import AppStoreServerAPIClient, APIException\n",
    "from appstoreserverlibrary.models.Environment import Environment\n",
    "from appstoreserverlibrary.models.SendTestNotificationResponse import SendTestNotificationResponse\n",
    "\n",
    "environment = Environment.SANDBOX\n",
    "\n",
    "client = AppStoreServerAPIClient(private_key, key_id, issuer_id, bundle_id, environment)\n",
    "\n",
    "try:    \n",
    "    response = client.request_test_notification()\n",
    "    print(response)\n",
    "except APIException as e:\n",
    "    print(e)"
   ]
  }
 ],
 "metadata": {
  "kernelspec": {
   "display_name": ".venv",
   "language": "python",
   "name": "python3"
  },
  "language_info": {
   "codemirror_mode": {
    "name": "ipython",
    "version": 3
   },
   "file_extension": ".py",
   "mimetype": "text/x-python",
   "name": "python",
   "nbconvert_exporter": "python",
   "pygments_lexer": "ipython3",
   "version": "3.11.6"
  }
 },
 "nbformat": 4,
 "nbformat_minor": 2
}
